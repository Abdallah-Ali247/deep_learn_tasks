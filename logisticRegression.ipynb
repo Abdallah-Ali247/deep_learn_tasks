{
  "nbformat": 4,
  "nbformat_minor": 0,
  "metadata": {
    "colab": {
      "provenance": []
    },
    "kernelspec": {
      "name": "python3",
      "display_name": "Python 3"
    },
    "language_info": {
      "name": "python"
    }
  },
  "cells": [
    {
      "cell_type": "code",
      "execution_count": null,
      "metadata": {
        "id": "iQl3mzo0Ql5P"
      },
      "outputs": [],
      "source": [
        "import tensorflow as tf\n",
        "import numpy as np\n",
        "import matplotlib.pyplot as plt\n",
        "import pandas as pd\n"
      ]
    },
    {
      "cell_type": "code",
      "source": [
        "# Generate some example data\n",
        "x_train = np.random.randn(100, 2)\n",
        "y_train = np.random.randint(0, 2, (100, 1)) "
      ],
      "metadata": {
        "id": "qZcs-VBdQp3y"
      },
      "execution_count": null,
      "outputs": []
    },
    {
      "cell_type": "code",
      "source": [
        "# slove error : InvalidArgumentError: cannot compute MatMul as input #1(zero-based) was expected to be a double tensor but is a float tensor [Op:MatMul]\n",
        "x_train = x_train.astype('float32')\n",
        "y_train = y_train.astype('float32')"
      ],
      "metadata": {
        "id": "Vv0fDYPQThvW"
      },
      "execution_count": null,
      "outputs": []
    },
    {
      "cell_type": "code",
      "source": [
        "# Define the model parameters\n",
        "input_dim = x_train.shape[1]\n",
        "output_dim = y_train.shape[1]\n",
        "learning_rate = 0.01"
      ],
      "metadata": {
        "id": "465cg5ODQp5x"
      },
      "execution_count": null,
      "outputs": []
    },
    {
      "cell_type": "code",
      "source": [
        "# Initialize the model parameters\n",
        "w = tf.Variable(tf.random.normal(shape=(input_dim, output_dim), mean=0.0, stddev=1.0))\n",
        "b = tf.Variable(tf.zeros(shape=(output_dim,)))"
      ],
      "metadata": {
        "id": "EgujewJ3Qp8m"
      },
      "execution_count": null,
      "outputs": []
    },
    {
      "cell_type": "code",
      "source": [
        "# define the prediction functions\n",
        "def compute_predictions(x):\n",
        "  return tf.matmul(x, w) + b"
      ],
      "metadata": {
        "id": "deuL7M2_Zc8R"
      },
      "execution_count": null,
      "outputs": []
    },
    {
      "cell_type": "code",
      "source": [
        "# Define the sigmoid activation function\n",
        "def sigmoid(x):\n",
        "    return 1 / (1 + tf.exp(-x))\n"
      ],
      "metadata": {
        "id": "4fB-fmf4Qp-R"
      },
      "execution_count": null,
      "outputs": []
    },
    {
      "cell_type": "code",
      "source": [
        "# Define the loss function\n",
        "def cross_entropy_loss(y_true, y_pred):\n",
        "    #return -1/len(X) * tf.reduce_sum(y_true * tf.math.log(sigmoid(X @ w + b)) + (1-y_true) * tf.math.log(1 - sigmoid(X @ w + b)))\n",
        "    return -tf.reduce_mean(y_true * tf.math.log(y_pred) + (1 - y_true) * tf.math.log(1 - y_pred))"
      ],
      "metadata": {
        "id": "N9TCQT4CRGlj"
      },
      "execution_count": null,
      "outputs": []
    },
    {
      "cell_type": "code",
      "source": [
        "# Train the model\n",
        "def train_model(x,y):\n",
        "  \n",
        "    with tf.GradientTape() as tape:\n",
        "        # Compute the logits and probabilities\n",
        "        logits = compute_predictions(x)\n",
        "        probs = sigmoid(logits)\n",
        "\n",
        "        # Compute the loss\n",
        "        #loss = cross_entropy_loss(y, probs)\n",
        "        loss = cross_entropy_loss(y, probs)\n",
        "\n",
        "        # Compute the gradients\n",
        "        grads = tape.gradient(loss, [w, b])\n",
        "\n",
        "    # Update the parameters\n",
        "    w.assign_sub(learning_rate * grads[0])\n",
        "    b.assign_sub(learning_rate * grads[1])\n",
        "    \n",
        "    return loss"
      ],
      "metadata": {
        "id": "Q0Qfa2_URGnb"
      },
      "execution_count": null,
      "outputs": []
    },
    {
      "cell_type": "code",
      "source": [
        "'''\n",
        "# Create a tf.data.Dataset object for easy batched iteration\n",
        "ds = tf.data.Dataset.from_tensor_slices((x_train, y_train))\n",
        "ds = ds.shuffle(buffer_size=1024).batch(256)\n",
        "'''"
      ],
      "metadata": {
        "colab": {
          "base_uri": "https://localhost:8080/",
          "height": 53
        },
        "id": "vsjgL7NziGeA",
        "outputId": "5255ad88-9e75-496d-cf6e-a1a01c1ebb41"
      },
      "execution_count": null,
      "outputs": [
        {
          "output_type": "execute_result",
          "data": {
            "text/plain": [
              "'\\n# Create a tf.data.Dataset object for easy batched iteration\\nds = tf.data.Dataset.from_tensor_slices((x_train, y_train))\\nds = ds.shuffle(buffer_size=1024).batch(256)\\n'"
            ],
            "application/vnd.google.colaboratory.intrinsic+json": {
              "type": "string"
            }
          },
          "metadata": {},
          "execution_count": 10
        }
      ]
    },
    {
      "cell_type": "code",
      "source": [
        "# model train\n",
        "loss_list=[]\n",
        "for epoch in range(3000):\n",
        "    # Save the loss for each epoch\n",
        "    loss = train_model(x_train,y_train)\n",
        "    loss_list.append(loss.numpy())\n",
        "    # Print the loss every 10 epochs\n",
        "    if epoch % 1000 == 0:\n",
        "        print(\"Epoch %d: Loss %f\" % (epoch, loss))\n",
        "\n"
      ],
      "metadata": {
        "colab": {
          "base_uri": "https://localhost:8080/"
        },
        "id": "1U0r8EHjbHcM",
        "outputId": "6ab7f8ec-4dca-49e4-f22f-0c08e79fbb5f"
      },
      "execution_count": null,
      "outputs": [
        {
          "output_type": "stream",
          "name": "stdout",
          "text": [
            "Epoch 0: Loss 0.756109\n",
            "Epoch 1000: Loss 0.688541\n",
            "Epoch 2000: Loss 0.687945\n"
          ]
        }
      ]
    },
    {
      "cell_type": "code",
      "source": [
        "# Plot the loss over time\n",
        "plt.plot(loss_list)\n",
        "plt.title(\"Training Loss\")\n",
        "plt.xlabel(\"Epoch\")\n",
        "plt.ylabel(\"Loss\")\n",
        "plt.show();"
      ],
      "metadata": {
        "colab": {
          "base_uri": "https://localhost:8080/",
          "height": 472
        },
        "id": "Or6sBBEPYNgK",
        "outputId": "bfcc8677-a33a-4795-9970-a39c31e8dc65"
      },
      "execution_count": null,
      "outputs": [
        {
          "output_type": "display_data",
          "data": {
            "text/plain": [
              "<Figure size 640x480 with 1 Axes>"
            ],
            "image/png": "[encoded data removed]"
          },
          "metadata": {}
        }
      ]
    },
    {
      "cell_type": "code",
      "source": [
        "# Evaluate the model\n",
        "x_test = np.random.randn(10, 2)\n",
        "y_test = np.random.randint(0, 2, (10, 1))\n",
        "\n",
        "# slove error : InvalidArgumentError: cannot compute MatMul as input #1(zero-based) was expected to be a double tensor but is a float tensor [Op:MatMul]\n",
        "\n",
        "x_test = x_test.astype('float32')\n",
        "y_test = y_test.astype('float32')"
      ],
      "metadata": {
        "id": "e-kmPvP-RGqx"
      },
      "execution_count": null,
      "outputs": []
    },
    {
      "cell_type": "code",
      "source": [
        "# ##### test the model on test data #######\n",
        "#cupute y_test_pred\n",
        "logits = compute_predictions(x_test)\n",
        "# calc its probability\n",
        "probs = sigmoid(logits)\n",
        "#perform threshold = 0.5 \n",
        "predictions = tf.cast(probs > 0.5, tf.int32)"
      ],
      "metadata": {
        "id": "Dot0D52aRGsh"
      },
      "execution_count": null,
      "outputs": []
    },
    {
      "cell_type": "code",
      "source": [
        "# compare true values with prediction\n",
        "np.hstack((y_test,predictions))"
      ],
      "metadata": {
        "colab": {
          "base_uri": "https://localhost:8080/"
        },
        "id": "4FuxRmVncc8C",
        "outputId": "531da38a-fd8b-4cd5-a45e-a1c673a3406c"
      },
      "execution_count": null,
      "outputs": [
        {
          "output_type": "execute_result",
          "data": {
            "text/plain": [
              "array([[0., 0.],\n",
              "       [1., 1.],\n",
              "       [0., 0.],\n",
              "       [0., 0.],\n",
              "       [0., 1.],\n",
              "       [0., 0.],\n",
              "       [0., 0.],\n",
              "       [1., 0.],\n",
              "       [1., 0.],\n",
              "       [1., 1.]])"
            ]
          },
          "metadata": {},
          "execution_count": 15
        }
      ]
    },
    {
      "cell_type": "code",
      "source": [
        "# calc the accuracy\n",
        "accuracy = tf.reduce_mean(tf.cast(tf.equal(predictions, y_test), tf.float32))\n",
        "print(\"Test Accuracy:\", accuracy.numpy())\n"
      ],
      "metadata": {
        "colab": {
          "base_uri": "https://localhost:8080/"
        },
        "id": "zJQdpospRGvl",
        "outputId": "91956e5c-b4cf-4c66-e43c-605f8d295ac4"
      },
      "execution_count": null,
      "outputs": [
        {
          "output_type": "stream",
          "name": "stdout",
          "text": [
            "Test Accuracy: 0.7\n"
          ]
        }
      ]
    }
  ]
}