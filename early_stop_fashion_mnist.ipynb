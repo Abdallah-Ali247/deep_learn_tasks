{
  "nbformat": 4,
  "nbformat_minor": 0,
  "metadata": {
    "colab": {
      "provenance": []
    },
    "kernelspec": {
      "name": "python3",
      "display_name": "Python 3"
    },
    "language_info": {
      "name": "python"
    }
  },
  "cells": [
    {
      "cell_type": "code",
      "source": [
        "import numpy as np\n",
        "import pandas as pd\n",
        "import tensorflow as tf\n",
        "from tensorflow import keras\n",
        "from tensorflow.keras import layers\n",
        "from tensorflow.keras.datasets import fashion_mnist\n",
        "import matplotlib.pyplot as plt"
      ],
      "metadata": {
        "id": "GLVg-0nxeqJa"
      },
      "execution_count": 7,
      "outputs": []
    },
    {
      "cell_type": "code",
      "source": [
        "# Load the fashion_mnist dataset\n",
        "(x_train_all, y_train_all), (x_test, y_test) = fashion_mnist.load_data()\n",
        "\n",
        "#calss names \n",
        "class_names = ['T-shirt/top','Trouser','Pullover','Dress','Coat','Sandal','Shirt','Sneaker','Bag','Ankle boot']\n",
        "\n",
        "# Normalize the pixel values to be between 0 and 1\n",
        "X_train_all = x_train_all / 255.0"
      ],
      "metadata": {
        "id": "QazmSJnIeqLp"
      },
      "execution_count": 8,
      "outputs": []
    },
    {
      "cell_type": "code",
      "source": [
        "print(\"X_train_all shape :\",x_train_all.shape)\n",
        "print(\"X_test shape :\", x_test.shape)"
      ],
      "metadata": {
        "colab": {
          "base_uri": "https://localhost:8080/"
        },
        "id": "AalYgx7QgHLV",
        "outputId": "50cd5e0a-d8b5-4837-9ae8-cd6e0079d33e"
      },
      "execution_count": 15,
      "outputs": [
        {
          "output_type": "stream",
          "name": "stdout",
          "text": [
            "X_train_all shape : (60000, 28, 28)\n",
            "X_test shape : (10000, 28, 28)\n"
          ]
        }
      ]
    },
    {
      "cell_type": "code",
      "source": [
        "#spliting data to train , validation\n",
        "from sklearn.model_selection import train_test_split\n",
        "x_train, x_val, y_train, y_val = train_test_split(X_train_all, y_train_all)"
      ],
      "metadata": {
        "id": "-hq-dUaCgNRx"
      },
      "execution_count": 16,
      "outputs": []
    },
    {
      "cell_type": "code",
      "source": [
        "print(\"x_train shape :\",x_train.shape)\n",
        "print(\"x_val shape :\", x_val.shape)"
      ],
      "metadata": {
        "colab": {
          "base_uri": "https://localhost:8080/"
        },
        "id": "UPuILPsMltEi",
        "outputId": "52265cd8-caf5-4956-ede3-7c1c0a74bcd1"
      },
      "execution_count": 17,
      "outputs": [
        {
          "output_type": "stream",
          "name": "stdout",
          "text": [
            "x_train shape : (45000, 28, 28)\n",
            "x_val shape : (15000, 28, 28)\n"
          ]
        }
      ]
    },
    {
      "cell_type": "code",
      "source": [
        "# Define the model architecture\n",
        "model = keras.Sequential([\n",
        "    layers.Flatten(input_shape=(28, 28)),\n",
        "    layers.Dense(400, activation='relu'),\n",
        "    layers.Dropout(0.5),\n",
        "    layers.Dense(10, activation='softmax')\n",
        "])"
      ],
      "metadata": {
        "id": "RnBK1N_OeqOI"
      },
      "execution_count": 18,
      "outputs": []
    },
    {
      "cell_type": "code",
      "source": [
        "# Compile the model\n",
        "model.compile(\n",
        "    optimizer='adam',\n",
        "    loss='sparse_categorical_crossentropy',\n",
        "    metrics=['accuracy']\n",
        ")"
      ],
      "metadata": {
        "id": "d41CkhuHeqQX"
      },
      "execution_count": 19,
      "outputs": []
    },
    {
      "cell_type": "code",
      "source": [
        "# Train the model with overfitting\n",
        "history = model.fit(\n",
        "    x_train, y_train,\n",
        "    epochs=100,\n",
        "    validation_data=(x_val, y_val),\n",
        "    verbose=1\n",
        ")"
      ],
      "metadata": {
        "colab": {
          "base_uri": "https://localhost:8080/"
        },
        "id": "yDu_bzboeqSn",
        "outputId": "cbd12ba5-6c73-4b21-d549-7be34115f9cf"
      },
      "execution_count": 20,
      "outputs": [
        {
          "output_type": "stream",
          "name": "stdout",
          "text": [
            "Epoch 1/100\n",
            "1407/1407 [==============================] - 12s 8ms/step - loss: 0.5834 - accuracy: 0.7901 - val_loss: 0.4302 - val_accuracy: 0.8471\n",
            "Epoch 2/100\n",
            "1407/1407 [==============================] - 12s 8ms/step - loss: 0.4508 - accuracy: 0.8349 - val_loss: 0.3996 - val_accuracy: 0.8557\n",
            "Epoch 3/100\n",
            "1407/1407 [==============================] - 11s 8ms/step - loss: 0.4210 - accuracy: 0.8468 - val_loss: 0.3818 - val_accuracy: 0.8580\n",
            "Epoch 4/100\n",
            "1407/1407 [==============================] - 11s 8ms/step - loss: 0.3964 - accuracy: 0.8529 - val_loss: 0.3678 - val_accuracy: 0.8655\n",
            "Epoch 5/100\n",
            "1407/1407 [==============================] - 12s 9ms/step - loss: 0.3836 - accuracy: 0.8598 - val_loss: 0.3549 - val_accuracy: 0.8721\n",
            "Epoch 6/100\n",
            "1407/1407 [==============================] - 11s 8ms/step - loss: 0.3707 - accuracy: 0.8624 - val_loss: 0.3422 - val_accuracy: 0.8722\n",
            "Epoch 7/100\n",
            "1407/1407 [==============================] - 12s 8ms/step - loss: 0.3623 - accuracy: 0.8681 - val_loss: 0.3537 - val_accuracy: 0.8697\n",
            "Epoch 8/100\n",
            "1407/1407 [==============================] - 10s 7ms/step - loss: 0.3522 - accuracy: 0.8694 - val_loss: 0.3398 - val_accuracy: 0.8761\n",
            "Epoch 9/100\n",
            "1407/1407 [==============================] - 11s 8ms/step - loss: 0.3444 - accuracy: 0.8715 - val_loss: 0.3489 - val_accuracy: 0.8755\n",
            "Epoch 10/100\n",
            "1407/1407 [==============================] - 11s 8ms/step - loss: 0.3354 - accuracy: 0.8761 - val_loss: 0.3416 - val_accuracy: 0.8760\n",
            "Epoch 11/100\n",
            "1407/1407 [==============================] - 11s 8ms/step - loss: 0.3274 - accuracy: 0.8769 - val_loss: 0.3238 - val_accuracy: 0.8842\n",
            "Epoch 12/100\n",
            "1407/1407 [==============================] - 11s 8ms/step - loss: 0.3273 - accuracy: 0.8785 - val_loss: 0.3309 - val_accuracy: 0.8844\n",
            "Epoch 13/100\n",
            "1407/1407 [==============================] - 11s 8ms/step - loss: 0.3219 - accuracy: 0.8795 - val_loss: 0.3392 - val_accuracy: 0.8781\n",
            "Epoch 14/100\n",
            "1407/1407 [==============================] - 11s 8ms/step - loss: 0.3181 - accuracy: 0.8824 - val_loss: 0.3306 - val_accuracy: 0.8842\n",
            "Epoch 15/100\n",
            "1407/1407 [==============================] - 12s 8ms/step - loss: 0.3116 - accuracy: 0.8832 - val_loss: 0.3227 - val_accuracy: 0.8872\n",
            "Epoch 16/100\n",
            "1407/1407 [==============================] - 10s 7ms/step - loss: 0.3074 - accuracy: 0.8851 - val_loss: 0.3346 - val_accuracy: 0.8850\n",
            "Epoch 17/100\n",
            "1407/1407 [==============================] - 11s 8ms/step - loss: 0.3022 - accuracy: 0.8868 - val_loss: 0.3327 - val_accuracy: 0.8889\n",
            "Epoch 18/100\n",
            "1407/1407 [==============================] - 11s 8ms/step - loss: 0.3025 - accuracy: 0.8862 - val_loss: 0.3165 - val_accuracy: 0.8909\n",
            "Epoch 19/100\n",
            "1407/1407 [==============================] - 11s 8ms/step - loss: 0.2960 - accuracy: 0.8889 - val_loss: 0.3213 - val_accuracy: 0.8901\n",
            "Epoch 20/100\n",
            "1407/1407 [==============================] - 11s 8ms/step - loss: 0.2904 - accuracy: 0.8903 - val_loss: 0.3243 - val_accuracy: 0.8874\n",
            "Epoch 21/100\n",
            "1407/1407 [==============================] - 11s 8ms/step - loss: 0.2908 - accuracy: 0.8896 - val_loss: 0.3271 - val_accuracy: 0.8906\n",
            "Epoch 22/100\n",
            "1407/1407 [==============================] - 11s 8ms/step - loss: 0.2856 - accuracy: 0.8925 - val_loss: 0.3367 - val_accuracy: 0.8875\n",
            "Epoch 23/100\n",
            "1407/1407 [==============================] - 11s 8ms/step - loss: 0.2817 - accuracy: 0.8942 - val_loss: 0.3425 - val_accuracy: 0.8903\n",
            "Epoch 24/100\n",
            "1407/1407 [==============================] - 12s 9ms/step - loss: 0.2796 - accuracy: 0.8942 - val_loss: 0.3326 - val_accuracy: 0.8913\n",
            "Epoch 25/100\n",
            "1407/1407 [==============================] - 11s 7ms/step - loss: 0.2778 - accuracy: 0.8956 - val_loss: 0.3283 - val_accuracy: 0.8921\n",
            "Epoch 26/100\n",
            "1407/1407 [==============================] - 11s 8ms/step - loss: 0.2743 - accuracy: 0.8964 - val_loss: 0.3232 - val_accuracy: 0.8911\n",
            "Epoch 27/100\n",
            "1407/1407 [==============================] - 11s 8ms/step - loss: 0.2730 - accuracy: 0.8976 - val_loss: 0.3263 - val_accuracy: 0.8897\n",
            "Epoch 28/100\n",
            "1407/1407 [==============================] - 11s 8ms/step - loss: 0.2685 - accuracy: 0.8989 - val_loss: 0.3356 - val_accuracy: 0.8919\n",
            "Epoch 29/100\n",
            "1407/1407 [==============================] - 11s 8ms/step - loss: 0.2675 - accuracy: 0.8998 - val_loss: 0.3347 - val_accuracy: 0.8903\n",
            "Epoch 30/100\n",
            "1407/1407 [==============================] - 11s 8ms/step - loss: 0.2643 - accuracy: 0.9005 - val_loss: 0.3402 - val_accuracy: 0.8895\n",
            "Epoch 31/100\n",
            "1407/1407 [==============================] - 12s 9ms/step - loss: 0.2651 - accuracy: 0.8997 - val_loss: 0.3284 - val_accuracy: 0.8967\n",
            "Epoch 32/100\n",
            "1407/1407 [==============================] - 12s 9ms/step - loss: 0.2581 - accuracy: 0.9010 - val_loss: 0.3338 - val_accuracy: 0.8930\n",
            "Epoch 33/100\n",
            "1407/1407 [==============================] - 12s 8ms/step - loss: 0.2592 - accuracy: 0.9023 - val_loss: 0.3305 - val_accuracy: 0.8957\n",
            "Epoch 34/100\n",
            "1407/1407 [==============================] - 10s 7ms/step - loss: 0.2533 - accuracy: 0.9022 - val_loss: 0.3488 - val_accuracy: 0.8919\n",
            "Epoch 35/100\n",
            "1407/1407 [==============================] - 11s 8ms/step - loss: 0.2526 - accuracy: 0.9043 - val_loss: 0.3383 - val_accuracy: 0.8941\n",
            "Epoch 36/100\n",
            "1407/1407 [==============================] - 11s 8ms/step - loss: 0.2548 - accuracy: 0.9045 - val_loss: 0.3429 - val_accuracy: 0.8922\n",
            "Epoch 37/100\n",
            "1407/1407 [==============================] - 11s 8ms/step - loss: 0.2491 - accuracy: 0.9060 - val_loss: 0.3413 - val_accuracy: 0.8930\n",
            "Epoch 38/100\n",
            "1407/1407 [==============================] - 11s 8ms/step - loss: 0.2525 - accuracy: 0.9040 - val_loss: 0.3407 - val_accuracy: 0.8957\n",
            "Epoch 39/100\n",
            "1407/1407 [==============================] - 11s 8ms/step - loss: 0.2434 - accuracy: 0.9080 - val_loss: 0.3461 - val_accuracy: 0.8951\n",
            "Epoch 40/100\n",
            "1407/1407 [==============================] - 11s 8ms/step - loss: 0.2416 - accuracy: 0.9086 - val_loss: 0.3499 - val_accuracy: 0.8957\n",
            "Epoch 41/100\n",
            "1407/1407 [==============================] - 12s 8ms/step - loss: 0.2391 - accuracy: 0.9094 - val_loss: 0.3502 - val_accuracy: 0.8937\n",
            "Epoch 42/100\n",
            "1407/1407 [==============================] - 10s 7ms/step - loss: 0.2402 - accuracy: 0.9104 - val_loss: 0.3462 - val_accuracy: 0.8897\n",
            "Epoch 43/100\n",
            "1407/1407 [==============================] - 11s 8ms/step - loss: 0.2383 - accuracy: 0.9086 - val_loss: 0.3523 - val_accuracy: 0.8937\n",
            "Epoch 44/100\n",
            "1407/1407 [==============================] - 11s 8ms/step - loss: 0.2406 - accuracy: 0.9088 - val_loss: 0.3459 - val_accuracy: 0.8959\n",
            "Epoch 45/100\n",
            "1407/1407 [==============================] - 12s 9ms/step - loss: 0.2359 - accuracy: 0.9112 - val_loss: 0.3483 - val_accuracy: 0.8957\n",
            "Epoch 46/100\n",
            "1407/1407 [==============================] - 11s 8ms/step - loss: 0.2348 - accuracy: 0.9094 - val_loss: 0.3587 - val_accuracy: 0.8945\n",
            "Epoch 47/100\n",
            "1407/1407 [==============================] - 11s 8ms/step - loss: 0.2332 - accuracy: 0.9113 - val_loss: 0.3657 - val_accuracy: 0.8947\n",
            "Epoch 48/100\n",
            "1407/1407 [==============================] - 12s 9ms/step - loss: 0.2336 - accuracy: 0.9105 - val_loss: 0.3479 - val_accuracy: 0.8986\n",
            "Epoch 49/100\n",
            "1407/1407 [==============================] - 12s 8ms/step - loss: 0.2301 - accuracy: 0.9124 - val_loss: 0.3641 - val_accuracy: 0.8912\n",
            "Epoch 50/100\n",
            "1407/1407 [==============================] - 10s 7ms/step - loss: 0.2290 - accuracy: 0.9136 - val_loss: 0.3536 - val_accuracy: 0.8965\n",
            "Epoch 51/100\n",
            "1407/1407 [==============================] - 11s 8ms/step - loss: 0.2266 - accuracy: 0.9157 - val_loss: 0.3548 - val_accuracy: 0.8937\n",
            "Epoch 52/100\n",
            "1407/1407 [==============================] - 11s 8ms/step - loss: 0.2257 - accuracy: 0.9134 - val_loss: 0.3569 - val_accuracy: 0.8961\n",
            "Epoch 53/100\n",
            "1407/1407 [==============================] - 12s 8ms/step - loss: 0.2258 - accuracy: 0.9142 - val_loss: 0.3686 - val_accuracy: 0.8952\n",
            "Epoch 54/100\n",
            "1407/1407 [==============================] - 12s 8ms/step - loss: 0.2246 - accuracy: 0.9142 - val_loss: 0.3662 - val_accuracy: 0.8971\n",
            "Epoch 55/100\n",
            "1407/1407 [==============================] - 12s 8ms/step - loss: 0.2238 - accuracy: 0.9151 - val_loss: 0.3767 - val_accuracy: 0.8963\n",
            "Epoch 56/100\n",
            "1407/1407 [==============================] - 11s 8ms/step - loss: 0.2233 - accuracy: 0.9155 - val_loss: 0.3715 - val_accuracy: 0.8930\n",
            "Epoch 57/100\n",
            "1407/1407 [==============================] - 12s 9ms/step - loss: 0.2217 - accuracy: 0.9167 - val_loss: 0.3625 - val_accuracy: 0.8969\n",
            "Epoch 58/100\n",
            "1407/1407 [==============================] - 12s 9ms/step - loss: 0.2192 - accuracy: 0.9161 - val_loss: 0.3686 - val_accuracy: 0.8959\n",
            "Epoch 59/100\n",
            "1407/1407 [==============================] - 12s 8ms/step - loss: 0.2165 - accuracy: 0.9174 - val_loss: 0.3621 - val_accuracy: 0.8974\n",
            "Epoch 60/100\n",
            "1407/1407 [==============================] - 12s 9ms/step - loss: 0.2161 - accuracy: 0.9178 - val_loss: 0.3745 - val_accuracy: 0.8947\n",
            "Epoch 61/100\n",
            "1407/1407 [==============================] - 12s 9ms/step - loss: 0.2157 - accuracy: 0.9180 - val_loss: 0.3864 - val_accuracy: 0.8967\n",
            "Epoch 62/100\n",
            "1407/1407 [==============================] - 12s 8ms/step - loss: 0.2140 - accuracy: 0.9187 - val_loss: 0.3797 - val_accuracy: 0.8956\n",
            "Epoch 63/100\n",
            "1407/1407 [==============================] - 11s 8ms/step - loss: 0.2132 - accuracy: 0.9191 - val_loss: 0.3700 - val_accuracy: 0.8990\n",
            "Epoch 64/100\n",
            "1407/1407 [==============================] - 11s 8ms/step - loss: 0.2098 - accuracy: 0.9200 - val_loss: 0.3842 - val_accuracy: 0.8960\n",
            "Epoch 65/100\n",
            "1407/1407 [==============================] - 12s 8ms/step - loss: 0.2120 - accuracy: 0.9180 - val_loss: 0.3872 - val_accuracy: 0.8939\n",
            "Epoch 66/100\n",
            "1407/1407 [==============================] - 12s 8ms/step - loss: 0.2070 - accuracy: 0.9194 - val_loss: 0.3978 - val_accuracy: 0.8906\n",
            "Epoch 67/100\n",
            "1407/1407 [==============================] - 12s 8ms/step - loss: 0.2107 - accuracy: 0.9202 - val_loss: 0.3834 - val_accuracy: 0.8962\n",
            "Epoch 68/100\n",
            "1407/1407 [==============================] - 12s 8ms/step - loss: 0.2095 - accuracy: 0.9198 - val_loss: 0.3965 - val_accuracy: 0.8885\n",
            "Epoch 69/100\n",
            "1407/1407 [==============================] - 12s 8ms/step - loss: 0.2034 - accuracy: 0.9218 - val_loss: 0.3742 - val_accuracy: 0.8966\n",
            "Epoch 70/100\n",
            "1407/1407 [==============================] - 11s 8ms/step - loss: 0.2063 - accuracy: 0.9215 - val_loss: 0.4033 - val_accuracy: 0.8971\n",
            "Epoch 71/100\n",
            "1407/1407 [==============================] - 12s 9ms/step - loss: 0.2066 - accuracy: 0.9210 - val_loss: 0.4009 - val_accuracy: 0.8963\n",
            "Epoch 72/100\n",
            "1407/1407 [==============================] - 11s 8ms/step - loss: 0.2035 - accuracy: 0.9237 - val_loss: 0.4214 - val_accuracy: 0.8941\n",
            "Epoch 73/100\n",
            "1407/1407 [==============================] - 11s 8ms/step - loss: 0.2009 - accuracy: 0.9240 - val_loss: 0.3929 - val_accuracy: 0.8934\n",
            "Epoch 74/100\n",
            "1407/1407 [==============================] - 12s 8ms/step - loss: 0.2017 - accuracy: 0.9231 - val_loss: 0.4013 - val_accuracy: 0.8965\n",
            "Epoch 75/100\n",
            "1407/1407 [==============================] - 11s 8ms/step - loss: 0.1968 - accuracy: 0.9262 - val_loss: 0.3943 - val_accuracy: 0.8960\n",
            "Epoch 76/100\n",
            "1407/1407 [==============================] - 11s 8ms/step - loss: 0.1993 - accuracy: 0.9238 - val_loss: 0.3998 - val_accuracy: 0.8959\n",
            "Epoch 77/100\n",
            "1407/1407 [==============================] - 11s 8ms/step - loss: 0.2019 - accuracy: 0.9230 - val_loss: 0.3993 - val_accuracy: 0.8959\n",
            "Epoch 78/100\n",
            "1407/1407 [==============================] - 11s 8ms/step - loss: 0.1962 - accuracy: 0.9246 - val_loss: 0.4220 - val_accuracy: 0.8959\n",
            "Epoch 79/100\n",
            "1407/1407 [==============================] - 12s 9ms/step - loss: 0.1946 - accuracy: 0.9260 - val_loss: 0.4147 - val_accuracy: 0.8987\n",
            "Epoch 80/100\n",
            "1407/1407 [==============================] - 12s 9ms/step - loss: 0.1948 - accuracy: 0.9250 - val_loss: 0.4197 - val_accuracy: 0.8943\n",
            "Epoch 81/100\n",
            "1407/1407 [==============================] - 12s 8ms/step - loss: 0.1938 - accuracy: 0.9254 - val_loss: 0.4249 - val_accuracy: 0.8969\n",
            "Epoch 82/100\n",
            "1407/1407 [==============================] - 11s 8ms/step - loss: 0.1955 - accuracy: 0.9248 - val_loss: 0.4235 - val_accuracy: 0.8964\n",
            "Epoch 83/100\n",
            "1407/1407 [==============================] - 11s 8ms/step - loss: 0.1925 - accuracy: 0.9267 - val_loss: 0.4261 - val_accuracy: 0.8941\n",
            "Epoch 84/100\n",
            "1407/1407 [==============================] - 11s 8ms/step - loss: 0.1909 - accuracy: 0.9274 - val_loss: 0.4367 - val_accuracy: 0.8959\n",
            "Epoch 85/100\n",
            "1407/1407 [==============================] - 12s 8ms/step - loss: 0.1914 - accuracy: 0.9269 - val_loss: 0.4145 - val_accuracy: 0.8949\n",
            "Epoch 86/100\n",
            "1407/1407 [==============================] - 11s 8ms/step - loss: 0.1885 - accuracy: 0.9281 - val_loss: 0.4249 - val_accuracy: 0.8953\n",
            "Epoch 87/100\n",
            "1407/1407 [==============================] - 11s 8ms/step - loss: 0.1926 - accuracy: 0.9256 - val_loss: 0.4172 - val_accuracy: 0.8981\n",
            "Epoch 88/100\n",
            "1407/1407 [==============================] - 11s 8ms/step - loss: 0.1897 - accuracy: 0.9284 - val_loss: 0.4264 - val_accuracy: 0.8988\n",
            "Epoch 89/100\n",
            "1407/1407 [==============================] - 11s 8ms/step - loss: 0.1871 - accuracy: 0.9283 - val_loss: 0.4395 - val_accuracy: 0.8975\n",
            "Epoch 90/100\n",
            "1407/1407 [==============================] - 12s 9ms/step - loss: 0.1881 - accuracy: 0.9276 - val_loss: 0.4545 - val_accuracy: 0.8935\n",
            "Epoch 91/100\n",
            "1407/1407 [==============================] - 11s 8ms/step - loss: 0.1859 - accuracy: 0.9287 - val_loss: 0.4182 - val_accuracy: 0.8987\n",
            "Epoch 92/100\n",
            "1407/1407 [==============================] - 11s 8ms/step - loss: 0.1847 - accuracy: 0.9290 - val_loss: 0.4453 - val_accuracy: 0.8974\n",
            "Epoch 93/100\n",
            "1407/1407 [==============================] - 12s 8ms/step - loss: 0.1917 - accuracy: 0.9263 - val_loss: 0.4335 - val_accuracy: 0.8932\n",
            "Epoch 94/100\n",
            "1407/1407 [==============================] - 12s 8ms/step - loss: 0.1860 - accuracy: 0.9284 - val_loss: 0.4370 - val_accuracy: 0.8982\n",
            "Epoch 95/100\n",
            "1407/1407 [==============================] - 12s 8ms/step - loss: 0.1853 - accuracy: 0.9288 - val_loss: 0.4444 - val_accuracy: 0.8926\n",
            "Epoch 96/100\n",
            "1407/1407 [==============================] - 11s 8ms/step - loss: 0.1864 - accuracy: 0.9285 - val_loss: 0.4285 - val_accuracy: 0.8972\n",
            "Epoch 97/100\n",
            "1407/1407 [==============================] - 11s 8ms/step - loss: 0.1822 - accuracy: 0.9291 - val_loss: 0.4410 - val_accuracy: 0.8987\n",
            "Epoch 98/100\n",
            "1407/1407 [==============================] - 11s 8ms/step - loss: 0.1819 - accuracy: 0.9294 - val_loss: 0.4274 - val_accuracy: 0.8934\n",
            "Epoch 99/100\n",
            "1407/1407 [==============================] - 12s 8ms/step - loss: 0.1801 - accuracy: 0.9301 - val_loss: 0.4721 - val_accuracy: 0.8963\n",
            "Epoch 100/100\n",
            "1407/1407 [==============================] - 11s 8ms/step - loss: 0.1801 - accuracy: 0.9308 - val_loss: 0.4459 - val_accuracy: 0.8981\n"
          ]
        }
      ]
    },
    {
      "cell_type": "code",
      "source": [
        "# model summary\n",
        "model.summary()"
      ],
      "metadata": {
        "colab": {
          "base_uri": "https://localhost:8080/"
        },
        "id": "35as_oheiCpu",
        "outputId": "1d740354-2c3d-4af3-bbce-ed1ecaab4672"
      },
      "execution_count": 21,
      "outputs": [
        {
          "output_type": "stream",
          "name": "stdout",
          "text": [
            "Model: \"sequential_1\"\n",
            "_________________________________________________________________\n",
            " Layer (type)                Output Shape              Param #   \n",
            "=================================================================\n",
            " flatten_1 (Flatten)         (None, 784)               0         \n",
            "                                                                 \n",
            " dense_2 (Dense)             (None, 400)               314000    \n",
            "                                                                 \n",
            " dropout_1 (Dropout)         (None, 400)               0         \n",
            "                                                                 \n",
            " dense_3 (Dense)             (None, 10)                4010      \n",
            "                                                                 \n",
            "=================================================================\n",
            "Total params: 318,010\n",
            "Trainable params: 318,010\n",
            "Non-trainable params: 0\n",
            "_________________________________________________________________\n"
          ]
        }
      ]
    },
    {
      "cell_type": "code",
      "source": [
        "#inspect the fit history to see how the model perform in each epoch.\n",
        "pd.DataFrame(history.history).plot()\n",
        "plt.xlabel(\"epoch\")\n",
        "plt.legend(bbox_to_anchor=(1.05, 1), loc=2)\n",
        "plt.show()"
      ],
      "metadata": {
        "colab": {
          "base_uri": "https://localhost:8080/",
          "height": 449
        },
        "id": "jhg_Apw8iUem",
        "outputId": "0abd3f8a-40a7-4807-875a-ff3bd7a57a70"
      },
      "execution_count": 22,
      "outputs": [
        {
          "output_type": "display_data",
          "data": {
            "text/plain": [
              "<Figure size 640x480 with 1 Axes>"
            ],
            "image/png": "[encoded data removed]"
          },
          "metadata": {}
        }
      ]
    },
    {
      "cell_type": "markdown",
      "source": [
        "* we see that after `epoch` `15` there is a big difference between `train_loss` and `val_loss` , which mean its an `overfitting`\n"
      ],
      "metadata": {
        "id": "vVbs8JdArUFI"
      }
    },
    {
      "cell_type": "code",
      "source": [
        "# evaluate the model on test data\n",
        "loss, acc = model.evaluate(x_test, y_test)\n",
        "print(\"loss : {} , accuracy : {} \".format(loss, acc))"
      ],
      "metadata": {
        "colab": {
          "base_uri": "https://localhost:8080/"
        },
        "id": "KYgBR5N0inrG",
        "outputId": "eac12039-c28b-44a1-c6b8-0cc15d322b8d"
      },
      "execution_count": 23,
      "outputs": [
        {
          "output_type": "stream",
          "name": "stdout",
          "text": [
            "313/313 [==============================] - 1s 3ms/step - loss: 111.8582 - accuracy: 0.8804\n",
            "loss : 111.85816192626953 , accuracy : 0.8804000020027161 \n"
          ]
        }
      ]
    },
    {
      "cell_type": "code",
      "source": [],
      "metadata": {
        "id": "NROGzg5viqDP"
      },
      "execution_count": null,
      "outputs": []
    },
    {
      "cell_type": "code",
      "source": [
        "# Add early stopping to prevent overfitting\n",
        "early_stop = keras.callbacks.EarlyStopping(\n",
        "    monitor='val_loss',\n",
        "    patience=10,\n",
        "    restore_best_weights=True\n",
        ")"
      ],
      "metadata": {
        "id": "kz38FTd2eqVl"
      },
      "execution_count": 39,
      "outputs": []
    },
    {
      "cell_type": "code",
      "source": [
        "# Re-compile the model\n",
        "model.compile(\n",
        "    optimizer='adam',\n",
        "    loss='sparse_categorical_crossentropy',\n",
        "    metrics=['accuracy']\n",
        ")"
      ],
      "metadata": {
        "id": "wMImm24se8F5"
      },
      "execution_count": 40,
      "outputs": []
    },
    {
      "cell_type": "code",
      "source": [
        "# Train the model with early stopping\n",
        "history = model.fit(\n",
        "    x_train, y_train,\n",
        "    epochs=100,\n",
        "    validation_data=(x_test, y_test),\n",
        "    verbose=1,\n",
        "    callbacks=[early_stop]\n",
        ")"
      ],
      "metadata": {
        "colab": {
          "base_uri": "https://localhost:8080/"
        },
        "id": "_5KOJaPde8I8",
        "outputId": "240569d2-f24b-4aed-f19c-1e31643def7a"
      },
      "execution_count": 41,
      "outputs": [
        {
          "output_type": "stream",
          "name": "stdout",
          "text": [
            "Epoch 1/100\n",
            "1407/1407 [==============================] - 12s 8ms/step - loss: 0.1859 - accuracy: 0.9297 - val_loss: 120.4226 - val_accuracy: 0.8791\n",
            "Epoch 2/100\n",
            "1407/1407 [==============================] - 12s 8ms/step - loss: 0.1844 - accuracy: 0.9293 - val_loss: 114.8529 - val_accuracy: 0.8780\n",
            "Epoch 3/100\n",
            "1407/1407 [==============================] - 13s 9ms/step - loss: 0.1828 - accuracy: 0.9306 - val_loss: 124.9105 - val_accuracy: 0.8728\n",
            "Epoch 4/100\n",
            "1407/1407 [==============================] - 12s 9ms/step - loss: 0.1803 - accuracy: 0.9322 - val_loss: 129.0600 - val_accuracy: 0.8713\n",
            "Epoch 5/100\n",
            "1407/1407 [==============================] - 12s 8ms/step - loss: 0.1831 - accuracy: 0.9290 - val_loss: 118.6135 - val_accuracy: 0.8790\n",
            "Epoch 6/100\n",
            "1407/1407 [==============================] - 12s 9ms/step - loss: 0.1780 - accuracy: 0.9309 - val_loss: 132.7654 - val_accuracy: 0.8787\n",
            "Epoch 7/100\n",
            "1407/1407 [==============================] - 14s 10ms/step - loss: 0.1784 - accuracy: 0.9313 - val_loss: 117.0559 - val_accuracy: 0.8742\n",
            "Epoch 8/100\n",
            "1407/1407 [==============================] - 12s 9ms/step - loss: 0.1784 - accuracy: 0.9316 - val_loss: 125.5088 - val_accuracy: 0.8800\n",
            "Epoch 9/100\n",
            "1407/1407 [==============================] - 11s 8ms/step - loss: 0.1775 - accuracy: 0.9338 - val_loss: 122.8814 - val_accuracy: 0.8739\n",
            "Epoch 10/100\n",
            "1407/1407 [==============================] - 12s 8ms/step - loss: 0.1773 - accuracy: 0.9323 - val_loss: 120.0781 - val_accuracy: 0.8767\n",
            "Epoch 11/100\n",
            "1407/1407 [==============================] - 12s 8ms/step - loss: 0.1716 - accuracy: 0.9342 - val_loss: 118.2950 - val_accuracy: 0.8783\n",
            "Epoch 12/100\n",
            "1407/1407 [==============================] - 14s 10ms/step - loss: 0.1753 - accuracy: 0.9322 - val_loss: 122.5329 - val_accuracy: 0.8748\n"
          ]
        }
      ]
    },
    {
      "cell_type": "markdown",
      "source": [
        "* we see that model stoped in epoch `12`"
      ],
      "metadata": {
        "id": "bFW-fTu8wDYj"
      }
    },
    {
      "cell_type": "code",
      "source": [
        "#inspect the fit history to see how the model perform in each epoch.\n",
        "pd.DataFrame(history.history).plot()\n",
        "plt.title(\"After early stop\")\n",
        "plt.xlabel(\"epoch\")\n",
        "plt.legend(bbox_to_anchor=(1.05, 1), loc=2)\n",
        "plt.show()"
      ],
      "metadata": {
        "colab": {
          "base_uri": "https://localhost:8080/",
          "height": 472
        },
        "id": "oHdFeAcXvgLj",
        "outputId": "a076750b-0c21-4f8f-cd3f-69f3050cc5ce"
      },
      "execution_count": 44,
      "outputs": [
        {
          "output_type": "display_data",
          "data": {
            "text/plain": [
              "<Figure size 640x480 with 1 Axes>"
            ],
            "image/png": "[encoded data removed]"
          },
          "metadata": {}
        }
      ]
    },
    {
      "cell_type": "markdown",
      "source": [
        "* now we see a big difference from the previous plot "
      ],
      "metadata": {
        "id": "uFJFcc-6wZ9W"
      }
    },
    {
      "cell_type": "code",
      "source": [
        "# evaluate the model on test data\n",
        "loss, acc = model.evaluate(x_test, y_test)\n",
        "print(\"loss : {} , accuracy : {} \".format(loss, acc))"
      ],
      "metadata": {
        "colab": {
          "base_uri": "https://localhost:8080/"
        },
        "id": "1MI_2_O3vgNp",
        "outputId": "eeddb9b3-d806-4ac7-ffeb-817463fbed7d"
      },
      "execution_count": 45,
      "outputs": [
        {
          "output_type": "stream",
          "name": "stdout",
          "text": [
            "313/313 [==============================] - 1s 3ms/step - loss: 114.8529 - accuracy: 0.8780\n",
            "loss : 114.85285949707031 , accuracy : 0.878000020980835 \n"
          ]
        }
      ]
    },
    {
      "cell_type": "code",
      "source": [
        "y = model.predict(x_test[:3])\n",
        "output_name = np.argmax(y, axis= 1)\n",
        "pred = [class_names[x] for x in output_name]\n",
        "pred"
      ],
      "metadata": {
        "colab": {
          "base_uri": "https://localhost:8080/"
        },
        "id": "3sB26insvgPe",
        "outputId": "1629f7b2-e1df-4d5e-91e2-e49c68a6b31a"
      },
      "execution_count": 46,
      "outputs": [
        {
          "output_type": "stream",
          "name": "stdout",
          "text": [
            "1/1 [==============================] - 0s 47ms/step\n"
          ]
        },
        {
          "output_type": "execute_result",
          "data": {
            "text/plain": [
              "['Ankle boot', 'Pullover', 'Trouser']"
            ]
          },
          "metadata": {},
          "execution_count": 46
        }
      ]
    },
    {
      "cell_type": "code",
      "source": [
        "# display any photo with title of \"true class\" and xlabel of \"prediction\"\n",
        "fig, axes = plt.subplots(nrows=1, ncols=3, figsize=(10, 3))\n",
        "for i in range(3):\n",
        "    ax = axes[i]\n",
        "    ax.imshow(x_test[i], cmap='gray')\n",
        "    ax.set_title(class_names[y_test[i]])\n",
        "    ax.set_xlabel(pred[i])\n",
        "    ax.set_xticks([])\n",
        "    ax.set_yticks([])\n",
        "    \n",
        "\n",
        "plt.tight_layout()\n",
        "plt.show()"
      ],
      "metadata": {
        "colab": {
          "base_uri": "https://localhost:8080/",
          "height": 310
        },
        "id": "vfeGPxWYvgSl",
        "outputId": "d4302de4-23fc-425e-d099-644605ba6366"
      },
      "execution_count": 47,
      "outputs": [
        {
          "output_type": "display_data",
          "data": {
            "text/plain": [
              "<Figure size 1000x300 with 3 Axes>"
            ],
            "image/png": "[encoded data removed]"
          },
          "metadata": {}
        }
      ]
    },
    {
      "cell_type": "code",
      "source": [
        "#create a prediction function\n",
        "def name_prediction(x):\n",
        "\n",
        "  if (type(x) != 'int' ) and (x in range(len(x_test))): \n",
        "      # to solve the shape error\n",
        "      x_single = np.array([x_test[x]])\n",
        "      # predict the output of x\n",
        "      y = model.predict(x_single)\n",
        "      # get the index of the max prob prediction\n",
        "      output_index = np.argmax(y)\n",
        "      # get prediction name\n",
        "      pred_name = class_names[output_index]\n",
        "\n",
        "      # display the img \n",
        "      plt.imshow(x_test[x], cmap='gray')\n",
        "      plt.title(f'True class: {class_names[y_test[x]]}')\n",
        "      plt.xlabel(f'prediected: {pred_name}')\n",
        "      plt.xticks([])\n",
        "      plt.yticks([])\n",
        "      plt.show();\n",
        "      print()\n",
        "  else:\n",
        "    print(\"plz , enter number from 0 to 9999\")"
      ],
      "metadata": {
        "id": "4CLZtNUce8Mw"
      },
      "execution_count": 99,
      "outputs": []
    },
    {
      "cell_type": "code",
      "source": [
        "# enter the index of the photo from 0 to 9999\n",
        "name_prediction(1398)"
      ],
      "metadata": {
        "colab": {
          "base_uri": "https://localhost:8080/",
          "height": 483
        },
        "id": "isLS2aIZeqdS",
        "outputId": "f251c495-6bf9-490e-d6cc-870efda98245"
      },
      "execution_count": 100,
      "outputs": [
        {
          "output_type": "stream",
          "name": "stdout",
          "text": [
            "1/1 [==============================] - 0s 38ms/step\n"
          ]
        },
        {
          "output_type": "display_data",
          "data": {
            "text/plain": [
              "<Figure size 640x480 with 1 Axes>"
            ],
            "image/png": "[encoded data removed]"
          },
          "metadata": {}
        },
        {
          "output_type": "stream",
          "name": "stdout",
          "text": [
            "\n"
          ]
        }
      ]
    },
    {
      "cell_type": "code",
      "source": [
        "# if you have a list of imges\n",
        "x=[15,550,15000]\n",
        "for i in x:\n",
        "  name_prediction(i)"
      ],
      "metadata": {
        "colab": {
          "base_uri": "https://localhost:8080/",
          "height": 966
        },
        "id": "cVwMIQnV2OFJ",
        "outputId": "e5c02173-d3f9-45fd-cd97-723d1cc4467f"
      },
      "execution_count": 101,
      "outputs": [
        {
          "output_type": "stream",
          "name": "stdout",
          "text": [
            "1/1 [==============================] - 0s 23ms/step\n"
          ]
        },
        {
          "output_type": "display_data",
          "data": {
            "text/plain": [
              "<Figure size 640x480 with 1 Axes>"
            ],
            "image/png": "[encoded data removed]"
          },
          "metadata": {}
        },
        {
          "output_type": "stream",
          "name": "stdout",
          "text": [
            "\n",
            "1/1 [==============================] - 0s 32ms/step\n"
          ]
        },
        {
          "output_type": "display_data",
          "data": {
            "text/plain": [
              "<Figure size 640x480 with 1 Axes>"
            ],
            "image/png": "[encoded data removed]"
          },
          "metadata": {}
        },
        {
          "output_type": "stream",
          "name": "stdout",
          "text": [
            "\n",
            "plz , enter number from 0 to 9999\n"
          ]
        }
      ]
    },
    {
      "cell_type": "code",
      "source": [],
      "metadata": {
        "id": "poYD7TuG8DAU"
      },
      "execution_count": null,
      "outputs": []
    }
  ]
}