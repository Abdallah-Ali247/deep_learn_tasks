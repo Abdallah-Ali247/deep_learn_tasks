{
  "nbformat": 4,
  "nbformat_minor": 0,
  "metadata": {
    "colab": {
      "provenance": []
    },
    "kernelspec": {
      "name": "python3",
      "display_name": "Python 3"
    },
    "language_info": {
      "name": "python"
    }
  },
  "cells": [
    {
      "cell_type": "code",
      "execution_count": 1,
      "metadata": {
        "id": "JIzB0qJwJYIo"
      },
      "outputs": [],
      "source": [
        "import numpy as np\n",
        "import pandas as pd\n",
        "import tensorflow as tf\n",
        "from tensorflow import keras\n",
        "from tensorflow.keras import layers\n",
        "from sklearn.datasets import fetch_california_housing\n",
        "from sklearn.model_selection import train_test_split\n",
        "from sklearn.preprocessing import StandardScaler\n",
        "import matplotlib.pyplot as plt"
      ]
    },
    {
      "cell_type": "code",
      "source": [
        "#load dataset\n",
        "data = fetch_california_housing()\n",
        "# split data to train & test\n",
        "x_train_all, x_test, y_train_all, y_test = train_test_split(data.data, data.target)\n",
        "#split training data to train & validation\n",
        "x_train, x_val, y_train, y_val = train_test_split(x_train_all, y_train_all)\n"
      ],
      "metadata": {
        "id": "5Qd8U9E6JcBO"
      },
      "execution_count": 2,
      "outputs": []
    },
    {
      "cell_type": "code",
      "source": [
        "# print shape of each set\n",
        "print(\"X_train_all shape :\",x_train_all.shape)\n",
        "print(\"X_val shape :\", x_val.shape)\n",
        "print(\"X_test shape :\", x_test.shape)\n"
      ],
      "metadata": {
        "colab": {
          "base_uri": "https://localhost:8080/"
        },
        "id": "qJ9-gsVqKe7g",
        "outputId": "db30f3d2-a9e4-4014-fce7-9adaea461410"
      },
      "execution_count": 3,
      "outputs": [
        {
          "output_type": "stream",
          "name": "stdout",
          "text": [
            "X_train_all shape : (15480, 8)\n",
            "X_val shape : (3870, 8)\n",
            "X_test shape : (5160, 8)\n"
          ]
        }
      ]
    },
    {
      "cell_type": "code",
      "source": [
        "scaler = StandardScaler()\n",
        "x_train = scaler.fit_transform(x_train)\n",
        "x_val = scaler.fit_transform(x_val)\n",
        "x_test = scaler.fit_transform(x_test)"
      ],
      "metadata": {
        "id": "62j5yxekJcDE"
      },
      "execution_count": 4,
      "outputs": []
    },
    {
      "cell_type": "code",
      "source": [
        "# define the model architecture\n",
        "model = keras.models.Sequential()\n",
        "model.add(layers.Dense(60, activation='relu', input_shape=(x_train.shape[1],)))\n",
        "model.add(layers.Dropout(0.5))\n",
        "model.add(layers.Dense(35, activation='relu'))\n",
        "model.add(layers.Dropout(0.5))\n",
        "model.add(layers.Dense(1))"
      ],
      "metadata": {
        "id": "UE0O-orPJcHs"
      },
      "execution_count": 5,
      "outputs": []
    },
    {
      "cell_type": "code",
      "source": [
        "# compile the model\n",
        "model.compile(loss='mean_squared_error',\n",
        "              optimizer='SGD',\n",
        "               metrics = ['mean_squared_error']\n",
        "              )"
      ],
      "metadata": {
        "id": "ZqsSp7UlJcLP"
      },
      "execution_count": 6,
      "outputs": []
    },
    {
      "cell_type": "code",
      "source": [
        "# Train the model\n",
        "history = model.fit(\n",
        "    x_train, y_train, epochs=100,\n",
        "    validation_data = (x_val, y_val),\n",
        "    verbose=1\n",
        ")\n"
      ],
      "metadata": {
        "colab": {
          "base_uri": "https://localhost:8080/"
        },
        "id": "ngFmECpCJcNI",
        "outputId": "c33fbc0a-d588-4ff0-a5e1-ad3f84265cce"
      },
      "execution_count": 7,
      "outputs": [
        {
          "output_type": "stream",
          "name": "stdout",
          "text": [
            "Epoch 1/100\n",
            "363/363 [==============================] - 2s 5ms/step - loss: 1.2080 - mean_squared_error: 1.2080 - val_loss: 0.6726 - val_mean_squared_error: 0.6726\n",
            "Epoch 2/100\n",
            "363/363 [==============================] - 2s 5ms/step - loss: 0.8206 - mean_squared_error: 0.8206 - val_loss: 0.7918 - val_mean_squared_error: 0.7918\n",
            "Epoch 3/100\n",
            "363/363 [==============================] - 1s 2ms/step - loss: 1.0748 - mean_squared_error: 1.0748 - val_loss: 0.7101 - val_mean_squared_error: 0.7101\n",
            "Epoch 4/100\n",
            "363/363 [==============================] - 1s 2ms/step - loss: 1.1535 - mean_squared_error: 1.1535 - val_loss: 0.6216 - val_mean_squared_error: 0.6216\n",
            "Epoch 5/100\n",
            "363/363 [==============================] - 1s 2ms/step - loss: 0.7052 - mean_squared_error: 0.7052 - val_loss: 0.5759 - val_mean_squared_error: 0.5759\n",
            "Epoch 6/100\n",
            "363/363 [==============================] - 1s 2ms/step - loss: 0.6712 - mean_squared_error: 0.6712 - val_loss: 0.5322 - val_mean_squared_error: 0.5322\n",
            "Epoch 7/100\n",
            "363/363 [==============================] - 1s 2ms/step - loss: 0.6256 - mean_squared_error: 0.6256 - val_loss: 0.4904 - val_mean_squared_error: 0.4904\n",
            "Epoch 8/100\n",
            "363/363 [==============================] - 1s 2ms/step - loss: 0.6181 - mean_squared_error: 0.6181 - val_loss: 0.4668 - val_mean_squared_error: 0.4668\n",
            "Epoch 9/100\n",
            "363/363 [==============================] - 1s 2ms/step - loss: 0.6138 - mean_squared_error: 0.6138 - val_loss: 0.4474 - val_mean_squared_error: 0.4474\n",
            "Epoch 10/100\n",
            "363/363 [==============================] - 1s 2ms/step - loss: 0.5846 - mean_squared_error: 0.5846 - val_loss: 0.4424 - val_mean_squared_error: 0.4424\n",
            "Epoch 11/100\n",
            "363/363 [==============================] - 1s 2ms/step - loss: 0.5848 - mean_squared_error: 0.5848 - val_loss: 0.4472 - val_mean_squared_error: 0.4472\n",
            "Epoch 12/100\n",
            "363/363 [==============================] - 1s 2ms/step - loss: 0.5594 - mean_squared_error: 0.5594 - val_loss: 0.4424 - val_mean_squared_error: 0.4424\n",
            "Epoch 13/100\n",
            "363/363 [==============================] - 1s 2ms/step - loss: 0.5530 - mean_squared_error: 0.5530 - val_loss: 0.4416 - val_mean_squared_error: 0.4416\n",
            "Epoch 14/100\n",
            "363/363 [==============================] - 1s 2ms/step - loss: 0.5544 - mean_squared_error: 0.5544 - val_loss: 0.4571 - val_mean_squared_error: 0.4571\n",
            "Epoch 15/100\n",
            "363/363 [==============================] - 1s 2ms/step - loss: 0.5471 - mean_squared_error: 0.5471 - val_loss: 0.4648 - val_mean_squared_error: 0.4648\n",
            "Epoch 16/100\n",
            "363/363 [==============================] - 1s 2ms/step - loss: 0.5486 - mean_squared_error: 0.5486 - val_loss: 0.4828 - val_mean_squared_error: 0.4828\n",
            "Epoch 17/100\n",
            "363/363 [==============================] - 1s 2ms/step - loss: 0.5343 - mean_squared_error: 0.5343 - val_loss: 0.5204 - val_mean_squared_error: 0.5204\n",
            "Epoch 18/100\n",
            "363/363 [==============================] - 1s 2ms/step - loss: 0.5336 - mean_squared_error: 0.5336 - val_loss: 0.5150 - val_mean_squared_error: 0.5150\n",
            "Epoch 19/100\n",
            "363/363 [==============================] - 1s 2ms/step - loss: 0.5178 - mean_squared_error: 0.5178 - val_loss: 0.6013 - val_mean_squared_error: 0.6013\n",
            "Epoch 20/100\n",
            "363/363 [==============================] - 1s 2ms/step - loss: 0.5220 - mean_squared_error: 0.5220 - val_loss: 0.6259 - val_mean_squared_error: 0.6259\n",
            "Epoch 21/100\n",
            "363/363 [==============================] - 1s 2ms/step - loss: 0.5144 - mean_squared_error: 0.5144 - val_loss: 0.6842 - val_mean_squared_error: 0.6842\n",
            "Epoch 22/100\n",
            "363/363 [==============================] - 1s 2ms/step - loss: 0.5024 - mean_squared_error: 0.5024 - val_loss: 0.6736 - val_mean_squared_error: 0.6736\n",
            "Epoch 23/100\n",
            "363/363 [==============================] - 1s 2ms/step - loss: 0.5013 - mean_squared_error: 0.5013 - val_loss: 0.7423 - val_mean_squared_error: 0.7423\n",
            "Epoch 24/100\n",
            "363/363 [==============================] - 1s 2ms/step - loss: 0.4960 - mean_squared_error: 0.4960 - val_loss: 0.7437 - val_mean_squared_error: 0.7437\n",
            "Epoch 25/100\n",
            "363/363 [==============================] - 1s 2ms/step - loss: 0.4991 - mean_squared_error: 0.4991 - val_loss: 0.8041 - val_mean_squared_error: 0.8041\n",
            "Epoch 26/100\n",
            "363/363 [==============================] - 1s 2ms/step - loss: 0.5074 - mean_squared_error: 0.5074 - val_loss: 0.7922 - val_mean_squared_error: 0.7922\n",
            "Epoch 27/100\n",
            "363/363 [==============================] - 1s 2ms/step - loss: 0.4994 - mean_squared_error: 0.4994 - val_loss: 0.8838 - val_mean_squared_error: 0.8838\n",
            "Epoch 28/100\n",
            "363/363 [==============================] - 1s 2ms/step - loss: 0.5054 - mean_squared_error: 0.5054 - val_loss: 0.8164 - val_mean_squared_error: 0.8164\n",
            "Epoch 29/100\n",
            "363/363 [==============================] - 1s 2ms/step - loss: 0.4835 - mean_squared_error: 0.4835 - val_loss: 0.9627 - val_mean_squared_error: 0.9627\n",
            "Epoch 30/100\n",
            "363/363 [==============================] - 1s 3ms/step - loss: 0.4897 - mean_squared_error: 0.4897 - val_loss: 0.9895 - val_mean_squared_error: 0.9895\n",
            "Epoch 31/100\n",
            "363/363 [==============================] - 1s 2ms/step - loss: 0.4876 - mean_squared_error: 0.4876 - val_loss: 0.9935 - val_mean_squared_error: 0.9935\n",
            "Epoch 32/100\n",
            "363/363 [==============================] - 1s 2ms/step - loss: 0.4861 - mean_squared_error: 0.4861 - val_loss: 1.1479 - val_mean_squared_error: 1.1479\n",
            "Epoch 33/100\n",
            "363/363 [==============================] - 1s 2ms/step - loss: 0.4799 - mean_squared_error: 0.4799 - val_loss: 1.0379 - val_mean_squared_error: 1.0379\n",
            "Epoch 34/100\n",
            "363/363 [==============================] - 1s 2ms/step - loss: 0.4749 - mean_squared_error: 0.4749 - val_loss: 1.1745 - val_mean_squared_error: 1.1745\n",
            "Epoch 35/100\n",
            "363/363 [==============================] - 1s 2ms/step - loss: 0.4758 - mean_squared_error: 0.4758 - val_loss: 1.1553 - val_mean_squared_error: 1.1553\n",
            "Epoch 36/100\n",
            "363/363 [==============================] - 1s 2ms/step - loss: 0.4727 - mean_squared_error: 0.4727 - val_loss: 1.1119 - val_mean_squared_error: 1.1119\n",
            "Epoch 37/100\n",
            "363/363 [==============================] - 1s 2ms/step - loss: 0.4756 - mean_squared_error: 0.4756 - val_loss: 1.0162 - val_mean_squared_error: 1.0162\n",
            "Epoch 38/100\n",
            "363/363 [==============================] - 1s 2ms/step - loss: 0.4763 - mean_squared_error: 0.4763 - val_loss: 1.1775 - val_mean_squared_error: 1.1775\n",
            "Epoch 39/100\n",
            "363/363 [==============================] - 1s 2ms/step - loss: 0.4901 - mean_squared_error: 0.4901 - val_loss: 0.9486 - val_mean_squared_error: 0.9486\n",
            "Epoch 40/100\n",
            "363/363 [==============================] - 1s 2ms/step - loss: 0.4808 - mean_squared_error: 0.4808 - val_loss: 1.0668 - val_mean_squared_error: 1.0668\n",
            "Epoch 41/100\n",
            "363/363 [==============================] - 1s 2ms/step - loss: 0.4808 - mean_squared_error: 0.4808 - val_loss: 1.0599 - val_mean_squared_error: 1.0599\n",
            "Epoch 42/100\n",
            "363/363 [==============================] - 1s 2ms/step - loss: 0.4700 - mean_squared_error: 0.4700 - val_loss: 1.0877 - val_mean_squared_error: 1.0877\n",
            "Epoch 43/100\n",
            "363/363 [==============================] - 1s 2ms/step - loss: 0.4694 - mean_squared_error: 0.4694 - val_loss: 1.1134 - val_mean_squared_error: 1.1134\n",
            "Epoch 44/100\n",
            "363/363 [==============================] - 1s 2ms/step - loss: 0.4702 - mean_squared_error: 0.4702 - val_loss: 1.1539 - val_mean_squared_error: 1.1539\n",
            "Epoch 45/100\n",
            "363/363 [==============================] - 1s 2ms/step - loss: 0.4684 - mean_squared_error: 0.4684 - val_loss: 1.1116 - val_mean_squared_error: 1.1116\n",
            "Epoch 46/100\n",
            "363/363 [==============================] - 1s 2ms/step - loss: 0.4752 - mean_squared_error: 0.4752 - val_loss: 1.2000 - val_mean_squared_error: 1.2000\n",
            "Epoch 47/100\n",
            "363/363 [==============================] - 1s 2ms/step - loss: 0.4676 - mean_squared_error: 0.4676 - val_loss: 1.2084 - val_mean_squared_error: 1.2084\n",
            "Epoch 48/100\n",
            "363/363 [==============================] - 1s 2ms/step - loss: 0.4683 - mean_squared_error: 0.4683 - val_loss: 1.2685 - val_mean_squared_error: 1.2685\n",
            "Epoch 49/100\n",
            "363/363 [==============================] - 1s 2ms/step - loss: 0.4721 - mean_squared_error: 0.4721 - val_loss: 1.1853 - val_mean_squared_error: 1.1853\n",
            "Epoch 50/100\n",
            "363/363 [==============================] - 1s 2ms/step - loss: 0.4720 - mean_squared_error: 0.4720 - val_loss: 1.2776 - val_mean_squared_error: 1.2776\n",
            "Epoch 51/100\n",
            "363/363 [==============================] - 1s 2ms/step - loss: 0.4820 - mean_squared_error: 0.4820 - val_loss: 1.2547 - val_mean_squared_error: 1.2547\n",
            "Epoch 52/100\n",
            "363/363 [==============================] - 1s 2ms/step - loss: 0.4616 - mean_squared_error: 0.4616 - val_loss: 1.2626 - val_mean_squared_error: 1.2626\n",
            "Epoch 53/100\n",
            "363/363 [==============================] - 1s 2ms/step - loss: 0.4717 - mean_squared_error: 0.4717 - val_loss: 1.2941 - val_mean_squared_error: 1.2941\n",
            "Epoch 54/100\n",
            "363/363 [==============================] - 1s 2ms/step - loss: 0.5154 - mean_squared_error: 0.5154 - val_loss: 1.1717 - val_mean_squared_error: 1.1717\n",
            "Epoch 55/100\n",
            "363/363 [==============================] - 1s 2ms/step - loss: 0.5175 - mean_squared_error: 0.5175 - val_loss: 1.0422 - val_mean_squared_error: 1.0422\n",
            "Epoch 56/100\n",
            "363/363 [==============================] - 1s 2ms/step - loss: 0.4694 - mean_squared_error: 0.4694 - val_loss: 1.0757 - val_mean_squared_error: 1.0757\n",
            "Epoch 57/100\n",
            "363/363 [==============================] - 1s 2ms/step - loss: 0.4781 - mean_squared_error: 0.4781 - val_loss: 1.1068 - val_mean_squared_error: 1.1068\n",
            "Epoch 58/100\n",
            "363/363 [==============================] - 1s 2ms/step - loss: 0.4722 - mean_squared_error: 0.4722 - val_loss: 1.2621 - val_mean_squared_error: 1.2621\n",
            "Epoch 59/100\n",
            "363/363 [==============================] - 1s 2ms/step - loss: 0.4749 - mean_squared_error: 0.4749 - val_loss: 1.2157 - val_mean_squared_error: 1.2157\n",
            "Epoch 60/100\n",
            "363/363 [==============================] - 1s 2ms/step - loss: 0.4802 - mean_squared_error: 0.4802 - val_loss: 1.1696 - val_mean_squared_error: 1.1696\n",
            "Epoch 61/100\n",
            "363/363 [==============================] - 1s 2ms/step - loss: 0.4652 - mean_squared_error: 0.4652 - val_loss: 1.1899 - val_mean_squared_error: 1.1899\n",
            "Epoch 62/100\n",
            "363/363 [==============================] - 1s 2ms/step - loss: 0.4709 - mean_squared_error: 0.4709 - val_loss: 1.1076 - val_mean_squared_error: 1.1076\n",
            "Epoch 63/100\n",
            "363/363 [==============================] - 1s 2ms/step - loss: 0.4614 - mean_squared_error: 0.4614 - val_loss: 1.3495 - val_mean_squared_error: 1.3495\n",
            "Epoch 64/100\n",
            "363/363 [==============================] - 1s 2ms/step - loss: 0.5549 - mean_squared_error: 0.5549 - val_loss: 1.0250 - val_mean_squared_error: 1.0250\n",
            "Epoch 65/100\n",
            "363/363 [==============================] - 1s 2ms/step - loss: 0.4787 - mean_squared_error: 0.4787 - val_loss: 1.1271 - val_mean_squared_error: 1.1271\n",
            "Epoch 66/100\n",
            "363/363 [==============================] - 1s 2ms/step - loss: 0.4662 - mean_squared_error: 0.4662 - val_loss: 1.2135 - val_mean_squared_error: 1.2135\n",
            "Epoch 67/100\n",
            "363/363 [==============================] - 1s 2ms/step - loss: 0.4696 - mean_squared_error: 0.4696 - val_loss: 1.0725 - val_mean_squared_error: 1.0725\n",
            "Epoch 68/100\n",
            "363/363 [==============================] - 1s 2ms/step - loss: 0.4742 - mean_squared_error: 0.4742 - val_loss: 1.0700 - val_mean_squared_error: 1.0700\n",
            "Epoch 69/100\n",
            "363/363 [==============================] - 1s 2ms/step - loss: 0.4619 - mean_squared_error: 0.4619 - val_loss: 1.0852 - val_mean_squared_error: 1.0852\n",
            "Epoch 70/100\n",
            "363/363 [==============================] - 1s 2ms/step - loss: 0.4533 - mean_squared_error: 0.4533 - val_loss: 1.2007 - val_mean_squared_error: 1.2007\n",
            "Epoch 71/100\n",
            "363/363 [==============================] - 1s 3ms/step - loss: 0.4595 - mean_squared_error: 0.4595 - val_loss: 1.1642 - val_mean_squared_error: 1.1642\n",
            "Epoch 72/100\n",
            "363/363 [==============================] - 1s 2ms/step - loss: 0.4624 - mean_squared_error: 0.4624 - val_loss: 1.2222 - val_mean_squared_error: 1.2222\n",
            "Epoch 73/100\n",
            "363/363 [==============================] - 1s 2ms/step - loss: 0.4631 - mean_squared_error: 0.4631 - val_loss: 1.1823 - val_mean_squared_error: 1.1823\n",
            "Epoch 74/100\n",
            "363/363 [==============================] - 1s 2ms/step - loss: 0.4588 - mean_squared_error: 0.4588 - val_loss: 1.1316 - val_mean_squared_error: 1.1316\n",
            "Epoch 75/100\n",
            "363/363 [==============================] - 1s 2ms/step - loss: 0.4557 - mean_squared_error: 0.4557 - val_loss: 1.1343 - val_mean_squared_error: 1.1343\n",
            "Epoch 76/100\n",
            "363/363 [==============================] - 1s 2ms/step - loss: 0.4542 - mean_squared_error: 0.4542 - val_loss: 1.2326 - val_mean_squared_error: 1.2326\n",
            "Epoch 77/100\n",
            "363/363 [==============================] - 1s 2ms/step - loss: 0.4548 - mean_squared_error: 0.4548 - val_loss: 1.0923 - val_mean_squared_error: 1.0923\n",
            "Epoch 78/100\n",
            "363/363 [==============================] - 1s 2ms/step - loss: 0.4551 - mean_squared_error: 0.4551 - val_loss: 1.1579 - val_mean_squared_error: 1.1579\n",
            "Epoch 79/100\n",
            "363/363 [==============================] - 1s 2ms/step - loss: 0.4571 - mean_squared_error: 0.4571 - val_loss: 1.2351 - val_mean_squared_error: 1.2351\n",
            "Epoch 80/100\n",
            "363/363 [==============================] - 1s 2ms/step - loss: 0.4545 - mean_squared_error: 0.4545 - val_loss: 1.0292 - val_mean_squared_error: 1.0292\n",
            "Epoch 81/100\n",
            "363/363 [==============================] - 1s 2ms/step - loss: 0.4510 - mean_squared_error: 0.4510 - val_loss: 1.2248 - val_mean_squared_error: 1.2248\n",
            "Epoch 82/100\n",
            "363/363 [==============================] - 1s 2ms/step - loss: 0.4431 - mean_squared_error: 0.4431 - val_loss: 1.1801 - val_mean_squared_error: 1.1801\n",
            "Epoch 83/100\n",
            "363/363 [==============================] - 1s 2ms/step - loss: 0.4590 - mean_squared_error: 0.4590 - val_loss: 1.2047 - val_mean_squared_error: 1.2047\n",
            "Epoch 84/100\n",
            "363/363 [==============================] - 1s 2ms/step - loss: 0.4527 - mean_squared_error: 0.4527 - val_loss: 1.2372 - val_mean_squared_error: 1.2372\n",
            "Epoch 85/100\n",
            "363/363 [==============================] - 1s 2ms/step - loss: 0.4509 - mean_squared_error: 0.4509 - val_loss: 1.2724 - val_mean_squared_error: 1.2724\n",
            "Epoch 86/100\n",
            "363/363 [==============================] - 1s 2ms/step - loss: 0.4487 - mean_squared_error: 0.4487 - val_loss: 1.1836 - val_mean_squared_error: 1.1836\n",
            "Epoch 87/100\n",
            "363/363 [==============================] - 1s 2ms/step - loss: 0.4497 - mean_squared_error: 0.4497 - val_loss: 1.2221 - val_mean_squared_error: 1.2221\n",
            "Epoch 88/100\n",
            "363/363 [==============================] - 1s 2ms/step - loss: 0.4433 - mean_squared_error: 0.4433 - val_loss: 1.2566 - val_mean_squared_error: 1.2566\n",
            "Epoch 89/100\n",
            "363/363 [==============================] - 1s 2ms/step - loss: 0.4488 - mean_squared_error: 0.4488 - val_loss: 1.2112 - val_mean_squared_error: 1.2112\n",
            "Epoch 90/100\n",
            "363/363 [==============================] - 1s 2ms/step - loss: 0.4442 - mean_squared_error: 0.4442 - val_loss: 1.2432 - val_mean_squared_error: 1.2432\n",
            "Epoch 91/100\n",
            "363/363 [==============================] - 1s 2ms/step - loss: 0.4324 - mean_squared_error: 0.4324 - val_loss: 1.2551 - val_mean_squared_error: 1.2551\n",
            "Epoch 92/100\n",
            "363/363 [==============================] - 1s 2ms/step - loss: 0.4411 - mean_squared_error: 0.4411 - val_loss: 1.1596 - val_mean_squared_error: 1.1596\n",
            "Epoch 93/100\n",
            "363/363 [==============================] - 1s 2ms/step - loss: 0.4504 - mean_squared_error: 0.4504 - val_loss: 1.1818 - val_mean_squared_error: 1.1818\n",
            "Epoch 94/100\n",
            "363/363 [==============================] - 1s 2ms/step - loss: 0.4525 - mean_squared_error: 0.4525 - val_loss: 1.2060 - val_mean_squared_error: 1.2060\n",
            "Epoch 95/100\n",
            "363/363 [==============================] - 1s 2ms/step - loss: 0.4366 - mean_squared_error: 0.4366 - val_loss: 1.2112 - val_mean_squared_error: 1.2112\n",
            "Epoch 96/100\n",
            "363/363 [==============================] - 1s 2ms/step - loss: 0.4336 - mean_squared_error: 0.4336 - val_loss: 1.2961 - val_mean_squared_error: 1.2961\n",
            "Epoch 97/100\n",
            "363/363 [==============================] - 1s 2ms/step - loss: 0.4340 - mean_squared_error: 0.4340 - val_loss: 1.0958 - val_mean_squared_error: 1.0958\n",
            "Epoch 98/100\n",
            "363/363 [==============================] - 1s 2ms/step - loss: 0.4467 - mean_squared_error: 0.4467 - val_loss: 1.1112 - val_mean_squared_error: 1.1112\n",
            "Epoch 99/100\n",
            "363/363 [==============================] - 1s 2ms/step - loss: 0.4495 - mean_squared_error: 0.4495 - val_loss: 1.0970 - val_mean_squared_error: 1.0970\n",
            "Epoch 100/100\n",
            "363/363 [==============================] - 1s 2ms/step - loss: 0.4510 - mean_squared_error: 0.4510 - val_loss: 1.0141 - val_mean_squared_error: 1.0141\n"
          ]
        }
      ]
    },
    {
      "cell_type": "code",
      "source": [
        "# model summary\n",
        "model.summary()"
      ],
      "metadata": {
        "colab": {
          "base_uri": "https://localhost:8080/"
        },
        "id": "q0DDYJCPJcQV",
        "outputId": "62944488-2a29-4a72-8969-88ea8bebbc81"
      },
      "execution_count": 8,
      "outputs": [
        {
          "output_type": "stream",
          "name": "stdout",
          "text": [
            "Model: \"sequential\"\n",
            "_________________________________________________________________\n",
            " Layer (type)                Output Shape              Param #   \n",
            "=================================================================\n",
            " dense (Dense)               (None, 60)                540       \n",
            "                                                                 \n",
            " dropout (Dropout)           (None, 60)                0         \n",
            "                                                                 \n",
            " dense_1 (Dense)             (None, 35)                2135      \n",
            "                                                                 \n",
            " dropout_1 (Dropout)         (None, 35)                0         \n",
            "                                                                 \n",
            " dense_2 (Dense)             (None, 1)                 36        \n",
            "                                                                 \n",
            "=================================================================\n",
            "Total params: 2,711\n",
            "Trainable params: 2,711\n",
            "Non-trainable params: 0\n",
            "_________________________________________________________________\n"
          ]
        }
      ]
    },
    {
      "cell_type": "code",
      "source": [
        "#inspect the fit history to see how the model perform in each epoch.\n",
        "plt.plot(history.history['loss'],label='training loss')\n",
        "plt.plot(history.history['val_loss'],label='validation loss')\n",
        "plt.xlabel(\"Epochs\")\n",
        "plt.ylabel(\"MSE\")\n",
        "plt.legend()\n",
        "plt.show()"
      ],
      "metadata": {
        "colab": {
          "base_uri": "https://localhost:8080/",
          "height": 449
        },
        "id": "pc6DcmeaJcR_",
        "outputId": "b9d620c7-a065-433b-e205-be28aae5d0fb"
      },
      "execution_count": 9,
      "outputs": [
        {
          "output_type": "display_data",
          "data": {
            "text/plain": [
              "<Figure size 640x480 with 1 Axes>"
            ],
            "image/png": "[encoded data removed]"
          },
          "metadata": {}
        }
      ]
    },
    {
      "cell_type": "code",
      "source": [
        "# evaluate the model on test data\n",
        "model.evaluate(x_test, y_test)"
      ],
      "metadata": {
        "colab": {
          "base_uri": "https://localhost:8080/"
        },
        "id": "1j24RTGMJcVi",
        "outputId": "529f8320-af7a-4f95-973c-2ece3059125e"
      },
      "execution_count": 10,
      "outputs": [
        {
          "output_type": "stream",
          "name": "stdout",
          "text": [
            "162/162 [==============================] - 1s 3ms/step - loss: 0.4346 - mean_squared_error: 0.4346\n"
          ]
        },
        {
          "output_type": "execute_result",
          "data": {
            "text/plain": [
              "[0.434575617313385, 0.434575617313385]"
            ]
          },
          "metadata": {},
          "execution_count": 10
        }
      ]
    },
    {
      "cell_type": "code",
      "source": [
        "# Add early stopping to prevent overfitting\n",
        "early_stop = keras.callbacks.EarlyStopping(\n",
        "    monitor='val_loss',\n",
        "    patience=10,\n",
        "    restore_best_weights=True\n",
        ")"
      ],
      "metadata": {
        "id": "fHptjqxMJcW8"
      },
      "execution_count": 11,
      "outputs": []
    },
    {
      "cell_type": "code",
      "source": [
        "# recompile the model\n",
        "model.compile(loss='mean_squared_error',\n",
        "              optimizer='SGD',\n",
        "               metrics = ['mean_squared_error']\n",
        "              )"
      ],
      "metadata": {
        "id": "8lYcSYKdJcan"
      },
      "execution_count": 13,
      "outputs": []
    },
    {
      "cell_type": "code",
      "source": [
        "# Train the model with early stopping\n",
        "history = model.fit(\n",
        "    x_train, y_train,\n",
        "    epochs=100,\n",
        "    validation_data=(x_val, y_val),\n",
        "    verbose=1,\n",
        "    callbacks=[early_stop]\n",
        ")"
      ],
      "metadata": {
        "colab": {
          "base_uri": "https://localhost:8080/"
        },
        "id": "g0sNHbXqJccK",
        "outputId": "df7de8c8-6248-4a62-c323-5f832f194799"
      },
      "execution_count": 14,
      "outputs": [
        {
          "output_type": "stream",
          "name": "stdout",
          "text": [
            "Epoch 1/100\n",
            "363/363 [==============================] - 1s 2ms/step - loss: 0.4558 - mean_squared_error: 0.4558 - val_loss: 1.0262 - val_mean_squared_error: 1.0262\n",
            "Epoch 2/100\n",
            "363/363 [==============================] - 1s 2ms/step - loss: 0.4468 - mean_squared_error: 0.4468 - val_loss: 1.0691 - val_mean_squared_error: 1.0691\n",
            "Epoch 3/100\n",
            "363/363 [==============================] - 1s 2ms/step - loss: 0.4462 - mean_squared_error: 0.4462 - val_loss: 1.0002 - val_mean_squared_error: 1.0002\n",
            "Epoch 4/100\n",
            "363/363 [==============================] - 1s 2ms/step - loss: 0.4457 - mean_squared_error: 0.4457 - val_loss: 1.0738 - val_mean_squared_error: 1.0738\n",
            "Epoch 5/100\n",
            "363/363 [==============================] - 1s 2ms/step - loss: 0.4459 - mean_squared_error: 0.4459 - val_loss: 1.0796 - val_mean_squared_error: 1.0796\n",
            "Epoch 6/100\n",
            "363/363 [==============================] - 1s 2ms/step - loss: 0.4328 - mean_squared_error: 0.4328 - val_loss: 1.1490 - val_mean_squared_error: 1.1490\n",
            "Epoch 7/100\n",
            "363/363 [==============================] - 1s 2ms/step - loss: 0.4454 - mean_squared_error: 0.4454 - val_loss: 1.0347 - val_mean_squared_error: 1.0347\n",
            "Epoch 8/100\n",
            "363/363 [==============================] - 1s 2ms/step - loss: 0.4388 - mean_squared_error: 0.4388 - val_loss: 1.1741 - val_mean_squared_error: 1.1741\n",
            "Epoch 9/100\n",
            "363/363 [==============================] - 1s 2ms/step - loss: 0.4323 - mean_squared_error: 0.4323 - val_loss: 1.2495 - val_mean_squared_error: 1.2495\n",
            "Epoch 10/100\n",
            "363/363 [==============================] - 1s 2ms/step - loss: 0.4432 - mean_squared_error: 0.4432 - val_loss: 1.1616 - val_mean_squared_error: 1.1616\n",
            "Epoch 11/100\n",
            "363/363 [==============================] - 1s 2ms/step - loss: 0.4366 - mean_squared_error: 0.4366 - val_loss: 1.1472 - val_mean_squared_error: 1.1472\n",
            "Epoch 12/100\n",
            "363/363 [==============================] - 1s 2ms/step - loss: 0.4425 - mean_squared_error: 0.4425 - val_loss: 1.2037 - val_mean_squared_error: 1.2037\n",
            "Epoch 13/100\n",
            "363/363 [==============================] - 1s 2ms/step - loss: 0.4308 - mean_squared_error: 0.4308 - val_loss: 1.1226 - val_mean_squared_error: 1.1226\n"
          ]
        }
      ]
    },
    {
      "cell_type": "markdown",
      "source": [
        "* after using `earlystop` model stoppen at epoch `13`"
      ],
      "metadata": {
        "id": "hvd64FDveGxy"
      }
    },
    {
      "cell_type": "code",
      "source": [
        "# evaluate the model on test data\n",
        "model.evaluate(x_test, y_test)"
      ],
      "metadata": {
        "colab": {
          "base_uri": "https://localhost:8080/"
        },
        "id": "in217mpXJcg9",
        "outputId": "c9c26f99-13aa-42c0-8257-f1dc94f9c205"
      },
      "execution_count": 16,
      "outputs": [
        {
          "output_type": "stream",
          "name": "stdout",
          "text": [
            "162/162 [==============================] - 0s 1ms/step - loss: 0.4253 - mean_squared_error: 0.4253\n"
          ]
        },
        {
          "output_type": "execute_result",
          "data": {
            "text/plain": [
              "[0.42533910274505615, 0.42533910274505615]"
            ]
          },
          "metadata": {},
          "execution_count": 16
        }
      ]
    },
    {
      "cell_type": "code",
      "source": [],
      "metadata": {
        "id": "iqcKfXRWJckS"
      },
      "execution_count": null,
      "outputs": []
    },
    {
      "cell_type": "code",
      "source": [],
      "metadata": {
        "id": "evMH8ZGZJcl0"
      },
      "execution_count": null,
      "outputs": []
    },
    {
      "cell_type": "code",
      "source": [],
      "metadata": {
        "id": "9UVsl0IuJcpM"
      },
      "execution_count": null,
      "outputs": []
    }
  ]
}